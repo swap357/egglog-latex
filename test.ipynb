{
 "cells": [
  {
   "cell_type": "code",
   "execution_count": 8,
   "id": "aaf2ffbc-03f5-48a4-8c2e-e8ad3d4d0ec5",
   "metadata": {
    "execution": {
     "iopub.execute_input": "2025-05-30T00:46:24.480767Z",
     "iopub.status.busy": "2025-05-30T00:46:24.480613Z",
     "iopub.status.idle": "2025-05-30T00:46:24.482486Z",
     "shell.execute_reply": "2025-05-30T00:46:24.482223Z",
     "shell.execute_reply.started": "2025-05-30T00:46:24.480756Z"
    }
   },
   "outputs": [],
   "source": [
    "eg2= '''rewrite(pow(x, Lit64(ival))).to(\n",
    "    mul(x, pow(x, Lit64(ival - 1))),\n",
    "    ival >= 1,\n",
    ")'''"
   ]
  },
  {
   "cell_type": "code",
   "execution_count": 9,
   "id": "ce02f8df-b98f-4828-8882-1bc978c1cf94",
   "metadata": {
    "execution": {
     "iopub.execute_input": "2025-05-30T00:46:24.690703Z",
     "iopub.status.busy": "2025-05-30T00:46:24.690563Z",
     "iopub.status.idle": "2025-05-30T00:46:24.693249Z",
     "shell.execute_reply": "2025-05-30T00:46:24.693042Z",
     "shell.execute_reply.started": "2025-05-30T00:46:24.690694Z"
    }
   },
   "outputs": [
    {
     "name": "stdout",
     "output_type": "stream",
     "text": [
      "rewrite(pow(x, Lit64(ival))).to(\n",
      "    mul(x, pow(x, Lit64(ival - 1))),\n",
      "    ival >= 1,\n",
      ")\n"
     ]
    },
    {
     "data": {
      "text/latex": [
       "$\\displaystyle \\frac{expr = pow(x, Lit64(ival)), ival \\geq 1}{expr \\to mul(x, pow(x, Lit64(ival - 1)))}$"
      ],
      "text/plain": [
       "<IPython.core.display.Math object>"
      ]
     },
     "metadata": {},
     "output_type": "display_data"
    }
   ],
   "source": [
    "from egglog_to_inference import convert_rule\n",
    "from IPython.display import display, Math\n",
    "result = convert_rule(eg2)\n",
    "print(eg2)\n",
    "\n",
    "display(Math(result))"
   ]
  }
 ],
 "metadata": {
  "kernelspec": {
   "display_name": "base",
   "language": "python",
   "name": "python3"
  },
  "language_info": {
   "codemirror_mode": {
    "name": "ipython",
    "version": 3
   },
   "file_extension": ".py",
   "mimetype": "text/x-python",
   "name": "python",
   "nbconvert_exporter": "python",
   "pygments_lexer": "ipython3",
   "version": "3.12.2"
  }
 },
 "nbformat": 4,
 "nbformat_minor": 5
}
