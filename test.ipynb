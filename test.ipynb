{
 "cells": [
  {
   "cell_type": "code",
   "execution_count": 1,
   "id": "7dbf27df",
   "metadata": {},
   "outputs": [],
   "source": [
    "from egglog_to_inference import to_latex\n",
    "from IPython.display import display, Math"
   ]
  },
  {
   "cell_type": "code",
   "execution_count": 2,
   "id": "aaf2ffbc-03f5-48a4-8c2e-e8ad3d4d0ec5",
   "metadata": {
    "execution": {
     "iopub.execute_input": "2025-05-30T00:46:24.480767Z",
     "iopub.status.busy": "2025-05-30T00:46:24.480613Z",
     "iopub.status.idle": "2025-05-30T00:46:24.482486Z",
     "shell.execute_reply": "2025-05-30T00:46:24.482223Z",
     "shell.execute_reply.started": "2025-05-30T00:46:24.480756Z"
    }
   },
   "outputs": [],
   "source": [
    "egglog_rule = \"\"\"(rule ((= ary2 (MatMul ary0 ary1))\n",
    "       (= (ArrayDesc_toType ad0) (TypeVar_getType (TypeVar___init__ ary0)))\n",
    "       (= (ArrayDesc_toType ad1) (TypeVar_getType (TypeVar___init__ ary1)))\n",
    "       (= (ArrayDesc_ndim ad0) 2)\n",
    "       (= (ArrayDesc_ndim ad1) 2)\n",
    "       (ArrayDesc_dim ad0 0)\n",
    "       (ArrayDesc_dim ad1 1)\n",
    "       (= (ArrayDesc_dim ad0 1) (ArrayDesc_dim ad1 0))\n",
    "       (= (ArrayDesc_dtype ad0) (ArrayDesc_dtype ad1)))\n",
    "      ((ArrayDescOp ary2)\n",
    "       (set (TypeVar_getType (TypeVar___init__ ary2)) (ArrayDesc_toType (ArrayDescOp ary2)))\n",
    "       (set (ArrayDesc_ndim (ArrayDescOp ary2)) 2)\n",
    "       (set (ArrayDesc_dim (ArrayDescOp ary2) 0) (ArrayDesc_dim ad0 0))\n",
    "       (set (ArrayDesc_dim (ArrayDescOp ary2) 1) (ArrayDesc_dim ad1 1))\n",
    "       (set (ArrayDesc_dtype (ArrayDescOp ary2)) (ArrayDesc_dtype ad0)))\n",
    "        :ruleset ruleset_optimize_matmul )\"\"\"\n",
    "rewrite_rule = \"(rewrite (MatMul (MatMul ary0 ary1) ary2) (MatMul ary0 (MatMul ary1 ary2)) :ruleset ruleset_optimize_matmul)\"\n"
   ]
  },
  {
   "cell_type": "code",
   "execution_count": 3,
   "id": "4b4ad1f1",
   "metadata": {},
   "outputs": [
    {
     "name": "stdout",
     "output_type": "stream",
     "text": [
      "(rewrite (MatMul (MatMul ary0 ary1) ary2) (MatMul ary0 (MatMul ary1 ary2)) :ruleset ruleset_optimize_matmul)\n",
      "\\frac{expr = \\text{MatMul}(\\text{MatMul}(\\text{ary0}, \\text{ary1}), \\text{ary2})}{expr \\to \\text{MatMul}(\\text{ary0}, \\text{MatMul}(\\text{ary1}, \\text{ary2}))}\n"
     ]
    },
    {
     "data": {
      "text/latex": [
       "$\\displaystyle \\frac{expr = \\text{MatMul}(\\text{MatMul}(\\text{ary0}, \\text{ary1}), \\text{ary2})}{expr \\to \\text{MatMul}(\\text{ary0}, \\text{MatMul}(\\text{ary1}, \\text{ary2}))}$"
      ],
      "text/plain": [
       "<IPython.core.display.Math object>"
      ]
     },
     "metadata": {},
     "output_type": "display_data"
    }
   ],
   "source": [
    "result = to_latex(rewrite_rule)\n",
    "print(rewrite_rule)\n",
    "print(result)\n",
    "display(Math(result))"
   ]
  },
  {
   "cell_type": "code",
   "execution_count": 4,
   "id": "ce02f8df-b98f-4828-8882-1bc978c1cf94",
   "metadata": {
    "execution": {
     "iopub.execute_input": "2025-05-30T00:46:24.690703Z",
     "iopub.status.busy": "2025-05-30T00:46:24.690563Z",
     "iopub.status.idle": "2025-05-30T00:46:24.693249Z",
     "shell.execute_reply": "2025-05-30T00:46:24.693042Z",
     "shell.execute_reply.started": "2025-05-30T00:46:24.690694Z"
    }
   },
   "outputs": [
    {
     "name": "stdout",
     "output_type": "stream",
     "text": [
      "(rule ((= ary2 (MatMul ary0 ary1))\n",
      "       (= (ArrayDesc_toType ad0) (TypeVar_getType (TypeVar___init__ ary0)))\n",
      "       (= (ArrayDesc_toType ad1) (TypeVar_getType (TypeVar___init__ ary1)))\n",
      "       (= (ArrayDesc_ndim ad0) 2)\n",
      "       (= (ArrayDesc_ndim ad1) 2)\n",
      "       (ArrayDesc_dim ad0 0)\n",
      "       (ArrayDesc_dim ad1 1)\n",
      "       (= (ArrayDesc_dim ad0 1) (ArrayDesc_dim ad1 0))\n",
      "       (= (ArrayDesc_dtype ad0) (ArrayDesc_dtype ad1)))\n",
      "      ((ArrayDescOp ary2)\n",
      "       (set (TypeVar_getType (TypeVar___init__ ary2)) (ArrayDesc_toType (ArrayDescOp ary2)))\n",
      "       (set (ArrayDesc_ndim (ArrayDescOp ary2)) 2)\n",
      "       (set (ArrayDesc_dim (ArrayDescOp ary2) 0) (ArrayDesc_dim ad0 0))\n",
      "       (set (ArrayDesc_dim (ArrayDescOp ary2) 1) (ArrayDesc_dim ad1 1))\n",
      "       (set (ArrayDesc_dtype (ArrayDescOp ary2)) (ArrayDesc_dtype ad0)))\n",
      "        :ruleset ruleset_optimize_matmul )\n"
     ]
    },
    {
     "data": {
      "text/latex": [
       "$\\displaystyle \\frac{\\begin{array}{c} \\text{ary2} = \\text{MatMul}(\\text{ary0}, \\text{ary1}) \\\\ \\text{ArrayDesc\\_toType}(\\text{ad0}) = \\text{TypeVar\\_getType}(\\text{TypeVar\\_\\_\\_init\\_\\_}(\\text{ary0})) \\\\ \\text{ArrayDesc\\_toType}(\\text{ad1}) = \\text{TypeVar\\_getType}(\\text{TypeVar\\_\\_\\_init\\_\\_}(\\text{ary1})) \\\\ \\text{ArrayDesc\\_ndim}(\\text{ad0}) = 2 \\\\ \\text{ArrayDesc\\_ndim}(\\text{ad1}) = 2 \\\\ \\text{ArrayDesc\\_dim}(\\text{ad0}, 0) \\\\ \\text{ArrayDesc\\_dim}(\\text{ad1}, 1) \\\\ \\text{ArrayDesc\\_dim}(\\text{ad0}, 1) = \\text{ArrayDesc\\_dim}(\\text{ad1}, 0) \\\\ \\text{ArrayDesc\\_dtype}(\\text{ad0}) = \\text{ArrayDesc\\_dtype}(\\text{ad1}) \\end{array}}{\\begin{array}{c} \\text{ArrayDescOp}(\\text{ary2}) \\\\ \\text{TypeVar\\_getType}(\\text{TypeVar\\_\\_\\_init\\_\\_}(\\text{ary2})) \\to \\text{ArrayDesc\\_toType}(\\text{ArrayDescOp}(\\text{ary2})) \\\\ \\text{ArrayDesc\\_ndim}(\\text{ArrayDescOp}(\\text{ary2})) \\to 2 \\\\ \\text{ArrayDesc\\_dim}(\\text{ArrayDescOp}(\\text{ary2}), 0) \\to \\text{ArrayDesc\\_dim}(\\text{ad0}, 0) \\\\ \\text{ArrayDesc\\_dim}(\\text{ArrayDescOp}(\\text{ary2}), 1) \\to \\text{ArrayDesc\\_dim}(\\text{ad1}, 1) \\\\ \\text{ArrayDesc\\_dtype}(\\text{ArrayDescOp}(\\text{ary2})) \\to \\text{ArrayDesc\\_dtype}(\\text{ad0}) \\end{array}}$"
      ],
      "text/plain": [
       "<IPython.core.display.Math object>"
      ]
     },
     "metadata": {},
     "output_type": "display_data"
    }
   ],
   "source": [
    "result = to_latex(egglog_rule)\n",
    "print(egglog_rule)\n",
    "\n",
    "display(Math(result))"
   ]
  }
 ],
 "metadata": {
  "kernelspec": {
   "display_name": "base",
   "language": "python",
   "name": "python3"
  },
  "language_info": {
   "codemirror_mode": {
    "name": "ipython",
    "version": 3
   },
   "file_extension": ".py",
   "mimetype": "text/x-python",
   "name": "python",
   "nbconvert_exporter": "python",
   "pygments_lexer": "ipython3",
   "version": "3.12.2"
  }
 },
 "nbformat": 4,
 "nbformat_minor": 5
}
